{
 "cells": [
  {
   "cell_type": "code",
   "execution_count": 17,
   "id": "40027d1b-3886-46d2-a67f-b93af313806b",
   "metadata": {},
   "outputs": [],
   "source": [
    "import os\n",
    "import pandas as pd\n",
    "import yfinance as yf\n",
    "from datetime import datetime, timedelta\n",
    "from IPython.display import display, HTML\n",
    "\n",
    "CURR_DIR = os.getcwd() "
   ]
  },
  {
   "cell_type": "code",
   "execution_count": 10,
   "id": "90c7e5aa-f353-43e7-93cb-06f57cf5a1ce",
   "metadata": {},
   "outputs": [],
   "source": [
    "# Settings and functions for printing and plotting in notebook\n",
    "pd.set_option(\"display.max_rows\", None, \"display.max_columns\", None)\n",
    "\n",
    "def display_df(df):\n",
    "    # Puts the scrollbar next to the DataFrame\n",
    "    display(HTML(\"<div style='height: 300px; overflow: auto; width: fit-content'>\" + df.to_html() + \"</div>\"))"
   ]
  },
  {
   "cell_type": "code",
   "execution_count": 11,
   "id": "924aa3f6-aafe-443a-8d85-7ad97eca2c4d",
   "metadata": {},
   "outputs": [],
   "source": [
    "def make_name_symbol_csv_from_oslo_bors_csv(input_csv_file_name, output_csv_file_name):\n",
    "    name_symbol_df = pd.read_csv(CURR_DIR+input_csv_file_name, sep=';', usecols = ['Name','Symbol'], skiprows=[1,2,3])\n",
    "    name_symbol_df.to_csv(output_csv_file_name, encoding='utf-8', sep=\";\", index=False)\n",
    "    print(\"csv-filen\", output_csv_file_name, \"er nå opprettet fra csv-filen\", input_csv_file_name)\n",
    "    \n",
    "def get_df_from_csv(csv_file_name_str, printout=False):\n",
    "    df=pd.read_csv(CURR_DIR+csv_file_name_str, sep=';', skiprows=[1,2,3])\n",
    "    print(\"Laster all data fra\",CURR_DIR + csv_file_name_str,\"inn i dataframe name_symbol_df\")\n",
    "    if printout==True:\n",
    "        print(\"Utskrift av name_symbol_df. Data fra:\", CURR_DIR + csv_file_name_str)\n",
    "        display_df(df)\n",
    "    return df"
   ]
  },
  {
   "cell_type": "code",
   "execution_count": 12,
   "id": "1579faa0-c9f9-4c2b-96f8-fd2b864048c8",
   "metadata": {},
   "outputs": [
    {
     "name": "stdout",
     "output_type": "stream",
     "text": [
      "csv-filen Technology.csv er nå opprettet fra csv-filen \\Euronext_Equities_2023-02-06.csv\n"
     ]
    }
   ],
   "source": [
    "# Kode for å lage egne csv-filer for avgrensede sektorer\n",
    "# Last ned en sektor-Euronext_Equities_dato.csv-fil ved å bruke filterfunksjonen på Oslo Børs\n",
    "# OBS: Bruk raw-string for \\a \\n \\t ...\n",
    "# URL:  https://live.euronext.com/nb/markets/oslo/equities/list\n",
    "\n",
    "temp_file_name = r\"\\Euronext_Equities_2023-02-06.csv\"\n",
    "\n",
    "#SYNTAKS: make_name_symbol_csv_from_oslo_bors_csv(input_csv_file_name, output_csv_file_name)\n",
    "\n",
    "#make_name_symbol_csv_from_oslo_bors_csv(temp_file_name, \"all_stocks_oslo_bors.csv\")\n",
    "make_name_symbol_csv_from_oslo_bors_csv(temp_file_name, r\"Technology.csv\")\n",
    "#make_name_symbol_csv_from_oslo_bors_csv(temp_file_name, r\"Telecommunications.csv\")\n",
    "#make_name_symbol_csv_from_oslo_bors_csv(temp_file_name, r\"HealthCare.csv\")\n",
    "#make_name_symbol_csv_from_oslo_bors_csv(temp_file_name, r\"Banks.csv\")\n",
    "#make_name_symbol_csv_from_oslo_bors_csv(temp_file_name, r\"FinancialServices.csv\")\n",
    "#make_name_symbol_csv_from_oslo_bors_csv(temp_file_name, r\"RealEstate.csv\")\n",
    "#make_name_symbol_csv_from_oslo_bors_csv(temp_file_name, r\"Insurance.csv\")\n",
    "#make_name_symbol_csv_from_oslo_bors_csv(temp_file_name, r\"ConsumerDiscretionary.csv\")\n",
    "#make_name_symbol_csv_from_oslo_bors_csv(temp_file_name, r\"ConsumerStaples.csv\")\n",
    "#make_name_symbol_csv_from_oslo_bors_csv(temp_file_name, r\"Industrials.csv\")\n",
    "#make_name_symbol_csv_from_oslo_bors_csv(temp_file_name, r\"BasicMaterials.csv\")\n",
    "#make_name_symbol_csv_from_oslo_bors_csv(temp_file_name, r\"OilGasandCoal.csv\")\n",
    "#make_name_symbol_csv_from_oslo_bors_csv(temp_file_name, r\"AlternativeEnergy.csv\")\n",
    "#make_name_symbol_csv_from_oslo_bors_csv(temp_file_name, r\"Utilities.csv\")"
   ]
  },
  {
   "cell_type": "code",
   "execution_count": 13,
   "id": "4ae0832b-eff8-473e-a442-a51a2402a3d7",
   "metadata": {},
   "outputs": [
    {
     "name": "stdout",
     "output_type": "stream",
     "text": [
      "Laster all data fra C:\\Users\\magnu\\dev\\aksjeanalyse\\technology.csv inn i dataframe name_symbol_df\n",
      "Utskrift av name_symbol_df. Data fra: C:\\Users\\magnu\\dev\\aksjeanalyse\\technology.csv\n"
     ]
    },
    {
     "data": {
      "text/html": [
       "<div style='height: 300px; overflow: auto; width: fit-content'><table border=\"1\" class=\"dataframe\">\n",
       "  <thead>\n",
       "    <tr style=\"text-align: right;\">\n",
       "      <th></th>\n",
       "      <th>Name</th>\n",
       "      <th>Symbol</th>\n",
       "    </tr>\n",
       "  </thead>\n",
       "  <tbody>\n",
       "    <tr>\n",
       "      <th>0</th>\n",
       "      <td>CONTEXTVISION</td>\n",
       "      <td>CONTX</td>\n",
       "    </tr>\n",
       "    <tr>\n",
       "      <th>1</th>\n",
       "      <td>CRAYON GROUP HOLD</td>\n",
       "      <td>CRAYN</td>\n",
       "    </tr>\n",
       "    <tr>\n",
       "      <th>2</th>\n",
       "      <td>DLTX</td>\n",
       "      <td>DLTX</td>\n",
       "    </tr>\n",
       "    <tr>\n",
       "      <th>3</th>\n",
       "      <td>ELLIPTIC LABORATOR</td>\n",
       "      <td>ELABS</td>\n",
       "    </tr>\n",
       "    <tr>\n",
       "      <th>4</th>\n",
       "      <td>HARMONYCHAIN</td>\n",
       "      <td>HMONY</td>\n",
       "    </tr>\n",
       "    <tr>\n",
       "      <th>5</th>\n",
       "      <td>HUDDLESTOCK FINTEC</td>\n",
       "      <td>HUDL</td>\n",
       "    </tr>\n",
       "    <tr>\n",
       "      <th>6</th>\n",
       "      <td>INDUCT</td>\n",
       "      <td>INDCT</td>\n",
       "    </tr>\n",
       "    <tr>\n",
       "      <th>7</th>\n",
       "      <td>ITERA</td>\n",
       "      <td>ITERA</td>\n",
       "    </tr>\n",
       "    <tr>\n",
       "      <th>8</th>\n",
       "      <td>KAHOOT!</td>\n",
       "      <td>KAHOT</td>\n",
       "    </tr>\n",
       "    <tr>\n",
       "      <th>9</th>\n",
       "      <td>LINK MOBILITY GRP</td>\n",
       "      <td>LINK</td>\n",
       "    </tr>\n",
       "    <tr>\n",
       "      <th>10</th>\n",
       "      <td>MINTRA HOLDING</td>\n",
       "      <td>MNTR</td>\n",
       "    </tr>\n",
       "    <tr>\n",
       "      <th>11</th>\n",
       "      <td>NEXT BIOMETRICS GP</td>\n",
       "      <td>NEXT</td>\n",
       "    </tr>\n",
       "    <tr>\n",
       "      <th>12</th>\n",
       "      <td>NORDIC SEMICONDUC</td>\n",
       "      <td>NOD</td>\n",
       "    </tr>\n",
       "    <tr>\n",
       "      <th>13</th>\n",
       "      <td>OTELLO CORPORATION</td>\n",
       "      <td>OTEC</td>\n",
       "    </tr>\n",
       "    <tr>\n",
       "      <th>14</th>\n",
       "      <td>PEXIP HOLDING</td>\n",
       "      <td>PEXIP</td>\n",
       "    </tr>\n",
       "    <tr>\n",
       "      <th>15</th>\n",
       "      <td>POLIGHT</td>\n",
       "      <td>PLT</td>\n",
       "    </tr>\n",
       "    <tr>\n",
       "      <th>16</th>\n",
       "      <td>QUESTBACK GROUP</td>\n",
       "      <td>QUEST</td>\n",
       "    </tr>\n",
       "    <tr>\n",
       "      <th>17</th>\n",
       "      <td>RIVER TECH</td>\n",
       "      <td>RIVER</td>\n",
       "    </tr>\n",
       "    <tr>\n",
       "      <th>18</th>\n",
       "      <td>SCHIBSTED SER. A</td>\n",
       "      <td>SCHA</td>\n",
       "    </tr>\n",
       "    <tr>\n",
       "      <th>19</th>\n",
       "      <td>SCHIBSTED SER. B</td>\n",
       "      <td>SCHB</td>\n",
       "    </tr>\n",
       "    <tr>\n",
       "      <th>20</th>\n",
       "      <td>SIKRI GROUP</td>\n",
       "      <td>SIKRI</td>\n",
       "    </tr>\n",
       "    <tr>\n",
       "      <th>21</th>\n",
       "      <td>SMARTCRAFT</td>\n",
       "      <td>SMCRT</td>\n",
       "    </tr>\n",
       "    <tr>\n",
       "      <th>22</th>\n",
       "      <td>STRONGPOINT</td>\n",
       "      <td>STRO</td>\n",
       "    </tr>\n",
       "    <tr>\n",
       "      <th>23</th>\n",
       "      <td>TECHSTEP</td>\n",
       "      <td>TECH</td>\n",
       "    </tr>\n",
       "    <tr>\n",
       "      <th>24</th>\n",
       "      <td>TIETOEVRY</td>\n",
       "      <td>TIETO</td>\n",
       "    </tr>\n",
       "    <tr>\n",
       "      <th>25</th>\n",
       "      <td>VOLUE</td>\n",
       "      <td>VOLUE</td>\n",
       "    </tr>\n",
       "    <tr>\n",
       "      <th>26</th>\n",
       "      <td>WEBSTEP</td>\n",
       "      <td>WSTEP</td>\n",
       "    </tr>\n",
       "    <tr>\n",
       "      <th>27</th>\n",
       "      <td>ZALARIS</td>\n",
       "      <td>ZAL</td>\n",
       "    </tr>\n",
       "  </tbody>\n",
       "</table></div>"
      ],
      "text/plain": [
       "<IPython.core.display.HTML object>"
      ]
     },
     "metadata": {},
     "output_type": "display_data"
    }
   ],
   "source": [
    "# Kode for å opprette name_symbol_df fra csv-fil\n",
    "\n",
    "#name_symbols_df = get_df_from_csv(r\"\\all_stocks_oslo_bors.csv\", printout=True)  .\n",
    "name_symbols_df = get_df_from_csv(r\"\\technology.csv\", printout=True)"
   ]
  },
  {
   "cell_type": "code",
   "execution_count": 14,
   "id": "6abc08bc-b85c-4c39-96cb-e7adc039b3c1",
   "metadata": {},
   "outputs": [],
   "source": [
    "# Kode for å laste inn ett dataframe fra yahoo (yfinance) "
   ]
  },
  {
   "cell_type": "code",
   "execution_count": 15,
   "id": "a89b32be-8949-4135-909b-648e91ad9187",
   "metadata": {},
   "outputs": [
    {
     "name": "stdout",
     "output_type": "stream",
     "text": [
      "[0, 1, 2, 3, 4, 5, 6, 7, 8, 9, 10, 11, 12, 13, 14, 15, 16, 17, 18, 19, 20, 21, 22, 23, 24, 25, 26, 27]\n"
     ]
    }
   ],
   "source": [
    "# Kode for å lage en liste med dataframs fra yahoo (yfinance) \n",
    "# Selskapene i listen er hentet fra name_symbol_df\n",
    "selected_indexes = []  # Select only these indexes. For all indexes, set selected_indexes = []\n",
    "if selected_indexes == []:\n",
    "    selected_indexes = list(range(0, name_symbols_df.shape[0]))\n",
    "print(selected_indexes)\n"
   ]
  },
  {
   "cell_type": "code",
   "execution_count": 16,
   "id": "a371954d-3301-40da-9f1d-825e8e429e52",
   "metadata": {},
   "outputs": [],
   "source": [
    "# Setting values for analysis and plotting  \n",
    "\n",
    "from_date = datetime.today() - timedelta(days=30*12*5)  # Self-explanatory\n",
    "to_date = datetime.today()                              # Self-explanatory\n",
    "\n",
    "av_interval_sma1 = 50  # Simple Moving Average interval\n",
    "av_interval_sma2 = 20  # Simple Moving Average interval\n",
    "rsi_interval = 14   # Relative Strength Index interval\n",
    "rsi_ema_bool = True # True: Use exponential moving average in RSI. False: Use simple moving average in RSI\n",
    "av_interval_std = rsi_interval # Interval for rolling standard deviation\n",
    "bollinger_factor = 2     # Number of std between sma and upper/lower bollinger band\n",
    "\n",
    "date = \"Date\"        # String for plotting \n",
    "close = \"Close\"      # String for plotting\n",
    "volume = \"Volume\"    # String for plotting"
   ]
  },
  {
   "cell_type": "code",
   "execution_count": null,
   "id": "6f3f60a0-2fe8-42e8-98e0-12ac1446dd48",
   "metadata": {},
   "outputs": [],
   "source": []
  },
  {
   "cell_type": "code",
   "execution_count": null,
   "id": "0bbcb747-c80a-465b-b6a1-627e2db3449f",
   "metadata": {},
   "outputs": [],
   "source": []
  }
 ],
 "metadata": {
  "kernelspec": {
   "display_name": "Python 3 (ipykernel)",
   "language": "python",
   "name": "python3"
  },
  "language_info": {
   "codemirror_mode": {
    "name": "ipython",
    "version": 3
   },
   "file_extension": ".py",
   "mimetype": "text/x-python",
   "name": "python",
   "nbconvert_exporter": "python",
   "pygments_lexer": "ipython3",
   "version": "3.9.13"
  }
 },
 "nbformat": 4,
 "nbformat_minor": 5
}
